{
  "nbformat": 4,
  "nbformat_minor": 0,
  "metadata": {
    "colab": {
      "provenance": [],
      "authorship_tag": "ABX9TyOPm9a7nYvBtzfDmvOO34pC",
      "include_colab_link": true
    },
    "kernelspec": {
      "name": "python3",
      "display_name": "Python 3"
    },
    "language_info": {
      "name": "python"
    }
  },
  "cells": [
    {
      "cell_type": "markdown",
      "metadata": {
        "id": "view-in-github",
        "colab_type": "text"
      },
      "source": [
        "<a href=\"https://colab.research.google.com/github/helya02/HomeWorks/blob/main/ML_HW2.ipynb\" target=\"_parent\"><img src=\"https://colab.research.google.com/assets/colab-badge.svg\" alt=\"Open In Colab\"/></a>"
      ]
    },
    {
      "cell_type": "markdown",
      "source": [
        "Data\n"
      ],
      "metadata": {
        "id": "utiGtjeFFIi8"
      }
    },
    {
      "cell_type": "code",
      "execution_count": 1,
      "metadata": {
        "id": "LPFORJoqB5EM",
        "colab": {
          "base_uri": "https://localhost:8080/"
        },
        "outputId": "656d7891-9f67-4ed7-8bd7-727d504663bb"
      },
      "outputs": [
        {
          "output_type": "stream",
          "name": "stdout",
          "text": [
            "       Income  DebtToIncome  CreditHistory  LatePayments  Employment  \\\n",
            "0  101.692304      6.046014      12.538993             2    3.371397   \n",
            "1   65.263115     20.920108      16.524981             2    2.558994   \n",
            "2   83.760685     20.932257       6.834911             0    5.294267   \n",
            "3   73.293188     16.535676      12.673553             0    1.043815   \n",
            "4   76.857072     19.444921      10.359301             2    0.000000   \n",
            "\n",
            "   CreditLines  LoanAmount  HomeOwnership        Age    Savings  Education  \\\n",
            "0            2  223.749888              0  29.654235  63.632573          3   \n",
            "1            4   39.948799              1  42.493071  61.098483          2   \n",
            "2            2  206.694898              1  41.379374  82.461972          4   \n",
            "3            4  120.734710              1  50.546432  80.630408          2   \n",
            "4            7   97.532696              0  29.366066  39.001485          3   \n",
            "\n",
            "   ReliabilityScore Risk_Label  \n",
            "0          4.387126    Average  \n",
            "1          5.378843    Average  \n",
            "2          7.623962    Average  \n",
            "3         12.795080       Good  \n",
            "4          3.478817    Average  \n",
            "Training set shape: (3772, 13)\n",
            "<class 'pandas.core.frame.DataFrame'>\n",
            "RangeIndex: 3772 entries, 0 to 3771\n",
            "Data columns (total 13 columns):\n",
            " #   Column            Non-Null Count  Dtype  \n",
            "---  ------            --------------  -----  \n",
            " 0   Income            3772 non-null   float64\n",
            " 1   DebtToIncome      3772 non-null   float64\n",
            " 2   CreditHistory     3772 non-null   float64\n",
            " 3   LatePayments      3772 non-null   int64  \n",
            " 4   Employment        3772 non-null   float64\n",
            " 5   CreditLines       3772 non-null   int64  \n",
            " 6   LoanAmount        3772 non-null   float64\n",
            " 7   HomeOwnership     3772 non-null   int64  \n",
            " 8   Age               3772 non-null   float64\n",
            " 9   Savings           3772 non-null   float64\n",
            " 10  Education         3772 non-null   int64  \n",
            " 11  ReliabilityScore  3772 non-null   float64\n",
            " 12  Risk_Label        3772 non-null   object \n",
            "dtypes: float64(8), int64(4), object(1)\n",
            "memory usage: 383.2+ KB\n",
            "None\n"
          ]
        }
      ],
      "source": [
        "import pandas as pd\n",
        "\n",
        "# Load data\n",
        "train_df = pd.read_csv('/content/train_credit_data.csv')\n",
        "test_df = pd.read_csv('/content/test_credit_data.csv')\n",
        "\n",
        "# Preview the first few rows\n",
        "print(train_df.head())\n",
        "\n",
        "# Check shape and info\n",
        "print(\"Training set shape:\", train_df.shape)\n",
        "print(train_df.info())"
      ]
    },
    {
      "cell_type": "code",
      "source": [
        "# Preview the first few rows\n",
        "print(test_df.head())\n",
        "\n",
        "# Check shape and info\n",
        "print(\"Test set shape:\", test_df.shape)\n",
        "print(test_df.info())"
      ],
      "metadata": {
        "colab": {
          "base_uri": "https://localhost:8080/"
        },
        "id": "te8PyFNlG8lV",
        "outputId": "149eccd1-0198-4613-98e6-dcee15d0770a"
      },
      "execution_count": 7,
      "outputs": [
        {
          "output_type": "stream",
          "name": "stdout",
          "text": [
            "       Income  DebtToIncome  CreditHistory  LatePayments  Employment  \\\n",
            "0  102.183288     29.251776      14.358476             0    2.355237   \n",
            "1   76.504862     17.439537       7.218960             0    7.199254   \n",
            "2   92.705715     17.316174      19.552619             1    3.220039   \n",
            "3   50.969852     14.505600       8.192735             2    0.382309   \n",
            "4   96.030852     28.202591       2.626863             0    7.759396   \n",
            "\n",
            "   CreditLines  LoanAmount  HomeOwnership        Age    Savings  Education  \\\n",
            "0            3   92.175948              0  42.496307  45.159063          5   \n",
            "1            4  127.736658              0  48.002023  54.639346          2   \n",
            "2            5  193.682271              1  34.117933  57.592317          3   \n",
            "3            3  146.931570              1  29.422537  41.860780          3   \n",
            "4            3   43.495935              1  31.638967  50.984073          5   \n",
            "\n",
            "   ReliabilityScore Risk_Label  \n",
            "0         13.880731       Poor  \n",
            "1          6.736591    Average  \n",
            "2          9.889852       Good  \n",
            "3          2.962531    Average  \n",
            "4          2.134431       Poor  \n",
            "Test set shape: (3428, 13)\n",
            "<class 'pandas.core.frame.DataFrame'>\n",
            "RangeIndex: 3428 entries, 0 to 3427\n",
            "Data columns (total 13 columns):\n",
            " #   Column            Non-Null Count  Dtype  \n",
            "---  ------            --------------  -----  \n",
            " 0   Income            3428 non-null   float64\n",
            " 1   DebtToIncome      3428 non-null   float64\n",
            " 2   CreditHistory     3428 non-null   float64\n",
            " 3   LatePayments      3428 non-null   int64  \n",
            " 4   Employment        3428 non-null   float64\n",
            " 5   CreditLines       3428 non-null   int64  \n",
            " 6   LoanAmount        3428 non-null   float64\n",
            " 7   HomeOwnership     3428 non-null   int64  \n",
            " 8   Age               3428 non-null   float64\n",
            " 9   Savings           3428 non-null   float64\n",
            " 10  Education         3428 non-null   int64  \n",
            " 11  ReliabilityScore  3428 non-null   float64\n",
            " 12  Risk_Label        3428 non-null   object \n",
            "dtypes: float64(8), int64(4), object(1)\n",
            "memory usage: 348.3+ KB\n",
            "None\n"
          ]
        }
      ]
    },
    {
      "cell_type": "code",
      "source": [
        "print(\"Missing values in training set:\\n\", train_df.isnull().sum())"
      ],
      "metadata": {
        "colab": {
          "base_uri": "https://localhost:8080/"
        },
        "id": "gY-BmMhAFH9d",
        "outputId": "c15f84c8-b95e-4c65-c208-737c0a467519"
      },
      "execution_count": 2,
      "outputs": [
        {
          "output_type": "stream",
          "name": "stdout",
          "text": [
            "Missing values in training set:\n",
            " Income              0\n",
            "DebtToIncome        0\n",
            "CreditHistory       0\n",
            "LatePayments        0\n",
            "Employment          0\n",
            "CreditLines         0\n",
            "LoanAmount          0\n",
            "HomeOwnership       0\n",
            "Age                 0\n",
            "Savings             0\n",
            "Education           0\n",
            "ReliabilityScore    0\n",
            "Risk_Label          0\n",
            "dtype: int64\n"
          ]
        }
      ]
    },
    {
      "cell_type": "code",
      "source": [
        "print(\"Missing values in test set:\\n\", test_df.isnull().sum())"
      ],
      "metadata": {
        "colab": {
          "base_uri": "https://localhost:8080/"
        },
        "id": "ImJyUWM_HCyK",
        "outputId": "5d3f8326-fff1-4277-9604-d00868128e27"
      },
      "execution_count": 8,
      "outputs": [
        {
          "output_type": "stream",
          "name": "stdout",
          "text": [
            "Missing values in test set:\n",
            " Income              0\n",
            "DebtToIncome        0\n",
            "CreditHistory       0\n",
            "LatePayments        0\n",
            "Employment          0\n",
            "CreditLines         0\n",
            "LoanAmount          0\n",
            "HomeOwnership       0\n",
            "Age                 0\n",
            "Savings             0\n",
            "Education           0\n",
            "ReliabilityScore    0\n",
            "Risk_Label          0\n",
            "dtype: int64\n"
          ]
        }
      ]
    },
    {
      "cell_type": "code",
      "source": [
        "import matplotlib.pyplot as plt\n",
        "import seaborn as sns\n",
        "\n",
        "plt.figure(figsize=(6,4))\n",
        "sns.countplot(data=train_df, x='Risk_Label')\n",
        "plt.title('Class Distribution-Train')\n",
        "plt.show()"
      ],
      "metadata": {
        "colab": {
          "base_uri": "https://localhost:8080/",
          "height": 410
        },
        "id": "3cjyuXkBGf2e",
        "outputId": "6156db3f-c938-42ee-ef95-b16c3b681fa9"
      },
      "execution_count": 5,
      "outputs": [
        {
          "output_type": "display_data",
          "data": {
            "text/plain": [
              "<Figure size 600x400 with 1 Axes>"
            ],
            "image/png": "[encoded data removed]"
          },
          "metadata": {}
        }
      ]
    },
    {
      "cell_type": "code",
      "source": [
        "import matplotlib.pyplot as plt\n",
        "import seaborn as sns\n",
        "\n",
        "plt.figure(figsize=(6,4))\n",
        "sns.countplot(data=test_df, x='Risk_Label')\n",
        "plt.title('Class Distribution-Test')\n",
        "plt.show()"
      ],
      "metadata": {
        "colab": {
          "base_uri": "https://localhost:8080/",
          "height": 410
        },
        "id": "WLWdsgtMGhto",
        "outputId": "d3ff9008-c11d-443a-804b-50e1096121c6"
      },
      "execution_count": 9,
      "outputs": [
        {
          "output_type": "display_data",
          "data": {
            "text/plain": [
              "<Figure size 600x400 with 1 Axes>"
            ],
            "image/png": "[encoded data removed]"
          },
          "metadata": {}
        }
      ]
    },
    {
      "cell_type": "code",
      "source": [],
      "metadata": {
        "id": "vjLbyiz8GzFi"
      },
      "execution_count": null,
      "outputs": []
    }
  ]
}